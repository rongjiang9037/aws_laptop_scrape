{
 "cells": [
  {
   "cell_type": "code",
   "execution_count": 1,
   "metadata": {},
   "outputs": [],
   "source": [
    "import psycopg2"
   ]
  },
  {
   "cell_type": "code",
   "execution_count": 37,
   "metadata": {},
   "outputs": [],
   "source": [
    "# drop tables\n",
    "laptop_table_drop = \"\"\"DROP TABLE IF EXISTS dimlaptop\"\"\"\n",
    "\n",
    "brand_table_drop = \"\"\"DROP TABLE IF EXISTS dimbrand\"\"\"\n",
    "\n",
    "time_table_drop = \"\"\"DROP TABLE IF EXISTS dimtime\"\"\"\n",
    "\n",
    "laptopinfo_table_drop = \"\"\"DROP TABLE IF EXISTS factlaptopinfo\"\"\"\n",
    "\n",
    "drop_table_queries = [laptopinfo_table_drop, laptop_table_drop, brand_table_drop, time_table_drop]"
   ]
  },
  {
   "cell_type": "code",
   "execution_count": 38,
   "metadata": {},
   "outputs": [],
   "source": [
    "# create tables\n",
    "laptop_table_create = \"\"\"CREATE TABLE IF NOT EXISTS dimlaptop\n",
    "                                (   laptop_key SERIAL PRIMARY KEY,\n",
    "                                    name varchar NOT NULL,\n",
    "                                    sku varchar NOT NULL,\n",
    "                                    url varchar NOT NULL,\n",
    "                                UNIQUE (sku));\n",
    "                            \"\"\"\n",
    "\n",
    "brand_table_create = \"\"\"CREATE TABLE IF NOT EXISTS dimbrand\n",
    "                                (   brand_key SERIAL PRIMARY KEY,\n",
    "                                    name varchar NOT NULL,\n",
    "                                    ticker varchar,\n",
    "                                    exchange_nm varchar,\n",
    "                                UNIQUE(name));\n",
    "                            \"\"\"\n",
    "\n",
    "time_table_create = \"\"\"CREATE TABLE IF NOT EXISTS dimtime\n",
    "                                (   time date PRIMARY KEY,\n",
    "                                    day smallint NOT NULL,\n",
    "                                    week smallint NOT NULL,\n",
    "                                    month smallint NOT NULL,\n",
    "                                    year smallint NOT NULL,\n",
    "                                    weekday smallint NOT NULL\n",
    "                                );\n",
    "                            \"\"\"\n",
    "laptopinfo_table_create = \"\"\"CREATE TABLE IF NOT EXISTS factlaptopinfo\n",
    "                                (   ID SERIAL PRIMARY KEY,\n",
    "                                    time date REFERENCES dimtime(time),\n",
    "                                    laptop_key integer REFERENCES dimlaptop(laptop_key),\n",
    "                                    brand_key integer REFERENCES dimbrand(brand_key),\n",
    "                                    price numeric,\n",
    "                                    reg_price numeric,\n",
    "                                    money_saved numeric,\n",
    "                                    availability varchar,\n",
    "                                    review_num integer\n",
    "                                )\n",
    "                    \"\"\"\n",
    "\n",
    "create_table_queries = [laptop_table_create, brand_table_create, time_table_create, laptopinfo_table_create]"
   ]
  },
  {
   "cell_type": "code",
   "execution_count": 39,
   "metadata": {},
   "outputs": [],
   "source": [
    "def create_database():\n",
    "    \"\"\"\n",
    "    This function creates bnhlaptop database,\n",
    "    and return connection obejct and cursor variable\n",
    "    \n",
    "    input: None\n",
    "    return: None\n",
    "    \"\"\"\n",
    "    # connect to default database\n",
    "    conn = psycopg2.connect(\"host=localhost dbname=postgres password=test port=5432 user=postgres\")\n",
    "    conn.set_session(autocommit=True)\n",
    "    # get cursor variable \n",
    "    cur = conn.cursor()\n",
    "\n",
    "    # check if database bnhlaptop exists\n",
    "    cur.execute(\"SELECT datname FROM pg_catalog.pg_database WHERE lower(datname) = lower('bnhlaptop');\")\n",
    "    if not cur.fetchone():\n",
    "    # create new database bnhlapopt if not exist\n",
    "        cur.execute(\"\"\"CREATE DATABASE bnhlaptop \n",
    "                                WITH ENCODING 'utf8'\n",
    "                                TEMPLATE template0\"\"\")\n",
    "    # close database connection\n",
    "    conn.close()\n",
    "    \n",
    "    # connect to database bnhlaptop\n",
    "    conn = psycopg2.connect(\"host=localhost dbname=bnhlaptop password=test port=5432 user=postgres\")\n",
    "    cur = conn.cursor()\n",
    "    return cur, conn"
   ]
  },
  {
   "cell_type": "code",
   "execution_count": 40,
   "metadata": {},
   "outputs": [],
   "source": [
    "def drop_tables(cur, conn):\n",
    "    \"\"\"\n",
    "    Drop tables with queries from drop_table_quries list.\n",
    "    \n",
    "    input:\n",
    "    cur - cursor variable\n",
    "    conn - database connection object\n",
    "    \n",
    "    return: None\n",
    "    \"\"\"\n",
    "    # loop drop_table_queries\n",
    "    for query in drop_table_queries:\n",
    "        cur.execute(query)\n",
    "        conn.commit()\n",
    "    "
   ]
  },
  {
   "cell_type": "code",
   "execution_count": 41,
   "metadata": {},
   "outputs": [],
   "source": [
    "def create_tables(cur, conn):\n",
    "    \"\"\"\n",
    "    Create tables with quries from create_table_quries list\n",
    "    \n",
    "    input:\n",
    "    cur - cursor variable\n",
    "    conn - database connection object\n",
    "    \n",
    "    return: None\n",
    "    \"\"\"\n",
    "    # loop over create_table_queries list\n",
    "    for query in create_table_queries:\n",
    "        cur.execute(query)\n",
    "        conn.commit()\n",
    "        "
   ]
  },
  {
   "cell_type": "code",
   "execution_count": 42,
   "metadata": {},
   "outputs": [],
   "source": [
    "cur, conn = create_database()\n",
    "drop_tables(cur, conn)\n",
    "create_tables(cur, conn)\n",
    "conn.close()"
   ]
  },
  {
   "cell_type": "code",
   "execution_count": null,
   "metadata": {},
   "outputs": [],
   "source": []
  }
 ],
 "metadata": {
  "kernelspec": {
   "display_name": "Python 3",
   "language": "python",
   "name": "python3"
  },
  "language_info": {
   "codemirror_mode": {
    "name": "ipython",
    "version": 3
   },
   "file_extension": ".py",
   "mimetype": "text/x-python",
   "name": "python",
   "nbconvert_exporter": "python",
   "pygments_lexer": "ipython3",
   "version": "3.7.6"
  }
 },
 "nbformat": 4,
 "nbformat_minor": 4
}
